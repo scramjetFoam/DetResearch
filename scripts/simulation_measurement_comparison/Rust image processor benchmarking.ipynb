{
 "cells": [
  {
   "cell_type": "markdown",
   "metadata": {},
   "source": [
    "# Rust image processor benchmarking"
   ]
  },
  {
   "cell_type": "code",
   "execution_count": 1,
   "metadata": {},
   "outputs": [],
   "source": [
    "import os\n",
    "from timeit import timeit\n",
    "\n",
    "from funcs.dir import d_drive\n",
    "from funcs.post_processing.images.soot_foil.deltas import get_px_deltas_from_lines, Shot"
   ]
  },
  {
   "cell_type": "code",
   "execution_count": 2,
   "metadata": {},
   "outputs": [],
   "source": [
    "SHOT = Shot(\"2020-12-10\", 5)\n",
    "BASE_PATH = os.path.join(d_drive, \"Data\", \"Processed\", \"Soot Foil\", \"foil images\", SHOT.dir_name)\n",
    "IMG_PATH = os.path.join(BASE_PATH, \"dir0.png\")\n",
    "MASK_PATH = os.path.join(BASE_PATH, \"dir1.png\")"
   ]
  },
  {
   "cell_type": "code",
   "execution_count": 3,
   "metadata": {},
   "outputs": [],
   "source": [
    "def rust():\n",
    "    get_px_deltas_from_lines(IMG_PATH, MASK_PATH, use_fast=True, apply_uncertainty=False)\n",
    "    \n",
    "def python():\n",
    "    get_px_deltas_from_lines(IMG_PATH, MASK_PATH, use_fast=False, apply_uncertainty=False)"
   ]
  },
  {
   "cell_type": "code",
   "execution_count": 4,
   "metadata": {},
   "outputs": [
    {
     "name": "stdout",
     "output_type": "stream",
     "text": [
      "rust:   0.0012364478859999508 sec/it\n",
      "python: 0.04165342870799941 sec/it\n"
     ]
    }
   ],
   "source": [
    "n_runs = 1000\n",
    "\n",
    "t_rust = timeit(rust, number=n_runs) / n_runs\n",
    "print(f\"rust:   {t_rust} sec/it\")\n",
    "\n",
    "t_python = timeit(python, number=n_runs) / n_runs\n",
    "print(f\"python: {t_python} sec/it\")"
   ]
  },
  {
   "cell_type": "code",
   "execution_count": 5,
   "metadata": {},
   "outputs": [
    {
     "name": "stdout",
     "output_type": "stream",
     "text": [
      "speedup: 3369%\n"
     ]
    }
   ],
   "source": [
    "speedup = t_python / t_rust\n",
    "print(f\"speedup: {speedup*100:.0f}%\")"
   ]
  }
 ],
 "metadata": {
  "kernelspec": {
   "display_name": "Python 3",
   "language": "python",
   "name": "python3"
  },
  "language_info": {
   "codemirror_mode": {
    "name": "ipython",
    "version": 3
   },
   "file_extension": ".py",
   "mimetype": "text/x-python",
   "name": "python",
   "nbconvert_exporter": "python",
   "pygments_lexer": "ipython3",
   "version": "3.7.8"
  }
 },
 "nbformat": 4,
 "nbformat_minor": 4
}
