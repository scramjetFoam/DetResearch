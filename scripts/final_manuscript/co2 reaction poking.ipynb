{
 "cells": [
  {
   "cell_type": "code",
   "execution_count": 1,
   "id": "6ec4e4aa-3e86-4e47-b63e-d550402beb86",
   "metadata": {
    "tags": []
   },
   "outputs": [],
   "source": [
    "import warnings\n",
    "\n",
    "import cantera as ct\n",
    "import numpy as np\n",
    "import seaborn as sns\n",
    "from matplotlib import pyplot as plt\n",
    "\n",
    "import sdtoolbox as sdt"
   ]
  },
  {
   "cell_type": "code",
   "execution_count": 2,
   "id": "046abf77-2be0-4439-923b-4f580b3a1933",
   "metadata": {
    "tags": []
   },
   "outputs": [],
   "source": [
    "gas = ct.Solution(\"gri30_highT.xml\")"
   ]
  },
  {
   "cell_type": "code",
   "execution_count": 3,
   "id": "171de18e-d73a-4bda-b0a2-fd7613d16b8d",
   "metadata": {
    "tags": []
   },
   "outputs": [
    {
     "data": {
      "text/plain": [
       "([<ElementaryReaction: CO + OH <=> CO2 + H>,\n",
       "  <ElementaryReaction: CO + HO2 <=> CO2 + OH>,\n",
       "  <ElementaryReaction: HNCO + OH <=> CO2 + NH2>],\n",
       " [98, 119, 267])"
      ]
     },
     "execution_count": 3,
     "metadata": {},
     "output_type": "execute_result"
    }
   ],
   "source": [
    "# keeping these separate from species because I don't want only the H reaction for now\n",
    "rxns = []\n",
    "rxn_indices = []\n",
    "for i, rxn in enumerate(gas.reactions()):\n",
    "    reactants_and_products = [*rxn.reactants.keys(),*rxn.products.keys()]\n",
    "    if (\n",
    "        \"CO2\" in reactants_and_products\n",
    "        # or\n",
    "        # \"N2\" in reactants_and_products\n",
    "    ) and \"OH\" in reactants_and_products:\n",
    "        rxns.append(rxn)\n",
    "        rxn_indices.append(i)\n",
    "rxns, rxn_indices"
   ]
  },
  {
   "cell_type": "code",
   "execution_count": 4,
   "id": "548c24a9-2f1d-49c0-9d3a-a870b683f2e8",
   "metadata": {
    "tags": []
   },
   "outputs": [
    {
     "name": "stdout",
     "output_type": "stream",
     "text": [
      "CO + OH <=> CO2 + H Arrhenius(A=47600, b=1.228, E=292880)\n",
      "CO + HO2 <=> CO2 + OH Arrhenius(A=1.5e+11, b=0, E=9.87424e+07)\n",
      "HNCO + OH <=> CO2 + NH2 Arrhenius(A=3300, b=1.5, E=1.50624e+07)\n"
     ]
    }
   ],
   "source": [
    "for rxn in rxns:\n",
    "    if hasattr(rxn, \"rate\"):\n",
    "        print(rxn, rxn.rate)\n",
    "    else:\n",
    "        print(rxn)"
   ]
  },
  {
   "cell_type": "code",
   "execution_count": 5,
   "id": "9c23079c-8803-4168-9723-72b4bf26a468",
   "metadata": {
    "tags": []
   },
   "outputs": [
    {
     "data": {
      "text/plain": [
       "[<ElementaryReaction: CO + HO2 <=> CO2 + OH>,\n",
       " <ElementaryReaction: CO + OH <=> CO2 + H>,\n",
       " <ElementaryReaction: HNCO + OH <=> CO2 + NH2>]"
      ]
     },
     "execution_count": 5,
     "metadata": {},
     "output_type": "execute_result"
    }
   ],
   "source": [
    "by_a = sorted(rxns, key=lambda r: r.rate.pre_exponential_factor, reverse=True)\n",
    "by_a"
   ]
  },
  {
   "cell_type": "code",
   "execution_count": 6,
   "id": "af29764b-105b-4ceb-a15d-4168bd31854b",
   "metadata": {
    "tags": []
   },
   "outputs": [
    {
     "data": {
      "text/plain": [
       "[15, 4, 1]"
      ]
     },
     "execution_count": 6,
     "metadata": {},
     "output_type": "execute_result"
    }
   ],
   "source": [
    "species = [\"CO2\", \"OH\", \"H\"]\n",
    "species_indices = []\n",
    "for spec in species:\n",
    "    try:\n",
    "        species_indices.append(gas.species_index(spec))\n",
    "    except ValueError:\n",
    "        warnings.warn(f\"Species not found: {spec}\")\n",
    "species_indices"
   ]
  },
  {
   "cell_type": "code",
   "execution_count": 7,
   "id": "b1771bed-c0d5-41eb-ae32-92198e593a1e",
   "metadata": {
    "tags": []
   },
   "outputs": [],
   "source": [
    "mech = \"gri30_highT.xml\"\n",
    "fuel = \"CH4\"\n",
    "oxidizer = \"N2O\"\n",
    "diluent = None\n",
    "t0 = 290\n",
    "p0 = 101325\n",
    "phi=1.0\n",
    "dil_mf = 0\n",
    "base_gas = ct.Solution(mech)\n",
    "base_gas.set_equivalence_ratio(phi, fuel, oxidizer)\n",
    "\n",
    "q = base_gas.mole_fraction_dict()\n",
    "\n",
    "# CJ speed\n",
    "dcj = sdt.postshock.CJspeed(p0, t0, q, mech)\n",
    "\n",
    "# # post shock EQ\n",
    "# working_gas = sdt.postshock.PostShock_eq(dcj, p0, t0, q, mech)\n",
    "# dcj_density_corrected = dcj * base_gas.density / working_gas.density\n",
    "\n",
    "# post shock FR\n",
    "working_gas = sdt.postshock.PostShock_fr(dcj, p0, t0, q, mech)"
   ]
  },
  {
   "cell_type": "code",
   "execution_count": 8,
   "id": "7b4c09cf-02e0-4250-b57a-c29a6dfd3a2b",
   "metadata": {
    "tags": []
   },
   "outputs": [
    {
     "data": {
      "text/plain": [
       "'/home/mick/DetResearch/scripts/final_manuscript/co2_sims.sqlite'"
      ]
     },
     "execution_count": 8,
     "metadata": {},
     "output_type": "execute_result"
    }
   ],
   "source": [
    "data_dir = %pwd\n",
    "db_location = f\"{data_dir}/co2_sims.sqlite\"\n",
    "db_location"
   ]
  },
  {
   "cell_type": "code",
   "execution_count": 9,
   "id": "647ef9b8-2280-4409-966a-8e5517754179",
   "metadata": {
    "tags": []
   },
   "outputs": [],
   "source": [
    "db = sdt.output.SimulationDatabase(\n",
    "    db=sdt.output.SqliteDataBase(db_location),\n",
    "    conditions=sdt.output.Conditions(\n",
    "        sim_type=sdt.output.SimulationType.Znd.value,\n",
    "        mech=mech,\n",
    "        initial_temp=t0,\n",
    "        initial_press=p0,\n",
    "        fuel=fuel,\n",
    "        oxidizer=oxidizer,\n",
    "        equivalence=phi,\n",
    "        diluent=diluent,\n",
    "        dil_mf=dil_mf,\n",
    "    ),\n",
    ")"
   ]
  },
  {
   "cell_type": "code",
   "execution_count": 10,
   "id": "004c9663-6963-435c-acdb-629f638241b5",
   "metadata": {
    "tags": []
   },
   "outputs": [
    {
     "name": "stderr",
     "output_type": "stream",
     "text": [
      "/home/mick/anaconda3/envs/research2/lib/python3.9/site-packages/scipy/integrate/_ivp/common.py:338: RuntimeWarning: overflow encountered in multiply\n",
      "  new_factor = NUM_JAC_FACTOR_INCREASE * factor[ind]\n",
      "/home/mick/anaconda3/envs/research2/lib/python3.9/site-packages/scipy/integrate/_ivp/common.py:360: RuntimeWarning: overflow encountered in multiply\n",
      "  factor[max_diff < NUM_JAC_DIFF_SMALL * scale] *= NUM_JAC_FACTOR_INCREASE\n"
     ]
    }
   ],
   "source": [
    "# znd ODEs\n",
    "znd = sdt.znd.zndsolve(\n",
    "    working_gas,\n",
    "    base_gas,\n",
    "    dcj,\n",
    "    t_end=2e-3,\n",
    "    max_step=1e-4,\n",
    "    advanced_output=True,\n",
    "    rxn_indices=rxn_indices,\n",
    "    spec_indices=species_indices,\n",
    "    db=db,\n",
    ")"
   ]
  },
  {
   "cell_type": "code",
   "execution_count": null,
   "id": "67ae45b9-5055-4c25-bd9e-03724c0c9236",
   "metadata": {
    "tags": []
   },
   "outputs": [],
   "source": [
    "# CV parameters\n",
    "working_gas.TPX = t0, p0, q\n",
    "working_gas = sdt.postshock.PostShock_fr(dcj, p0, t0, q, mech)\n",
    "t_vn, p_vn = working_gas.TP\n",
    "\n",
    "# CV sims\n",
    "t_a = t_vn * 1.02\n",
    "working_gas.TPX = t_a, p_vn, q\n",
    "limit_species_idx = working_gas.species_index(fuel)  # we're not running rich\n",
    "cv_0 = sdt.cv.cvsolve(\n",
    "    working_gas, \n",
    "    t_end=2*1e-6, \n",
    "    max_step=2*1e-5,\n",
    "    rxn_indices=rxn_indices,\n",
    "    spec_indices=species_indices,\n",
    "    db=db,\n",
    ")"
   ]
  },
  {
   "cell_type": "code",
   "execution_count": null,
   "id": "929d1d2f-c6e7-4963-b23f-c040d53525b2",
   "metadata": {
    "tags": []
   },
   "outputs": [],
   "source": [
    "# t_b = t_vn * 0.98\n",
    "# working_gas.TPX = t_b, p_vn, q\n",
    "# cv_1 = sdt.cv.cvsolve(working_gas, t_end=2*2*1e-6, max_step=2*2*1e-5)"
   ]
  },
  {
   "cell_type": "code",
   "execution_count": null,
   "id": "f43f9d65-bf8f-4a3b-986e-8fb4f5d7253c",
   "metadata": {
    "tags": []
   },
   "outputs": [],
   "source": [
    "# products\n",
    "working_gas.TPX = t_vn, p_vn, q\n",
    "working_gas.equilibrate(\"UV\")\n",
    "t_final = working_gas.T\n",
    "\n",
    "# westbrook\n",
    "t_50 = 0.5 * (t_final - t_vn) + t_vn  # 50% temp rise\n",
    "ind_time = np.nanmax(cv_0[\"time\"][cv_0[\"T\"] < t_50], initial=0)\n",
    "ind_len = ind_time * znd[\"U\"][0]\n",
    "cell_size = 29 * ind_len\n",
    "\n",
    "print(cell_size*1000)"
   ]
  },
  {
   "cell_type": "code",
   "execution_count": null,
   "id": "fd6322b9-3edb-42b5-94d5-cdb2089d20f6",
   "metadata": {
    "tags": []
   },
   "outputs": [],
   "source": [
    "start_interval = 40\n",
    "end_interval = 100"
   ]
  },
  {
   "cell_type": "code",
   "execution_count": null,
   "id": "74e43d21-3415-4055-abd2-3c92390b9f4e",
   "metadata": {
    "tags": []
   },
   "outputs": [],
   "source": [
    "sns.lineplot(x=znd[\"time\"][start_interval:end_interval], y=znd[\"thermicity\"][start_interval:end_interval])\n",
    "plt.xlabel(\"Time (sec)\")\n",
    "plt.ylabel(\"Thermicity\")\n",
    "plt.title(\"Thermicity Peak\")\n",
    "sns.despine()"
   ]
  },
  {
   "cell_type": "code",
   "execution_count": null,
   "id": "d3ef416b-7c16-4cb3-aed3-62e85b171e81",
   "metadata": {
    "tags": []
   },
   "outputs": [],
   "source": [
    "species = [\"CO2\", \"OH\", \"H\"]\n",
    "for spec in species:\n",
    "    plt.plot(znd[\"time\"][start_interval:end_interval], znd[\"species\"][gas.species_index(spec)][start_interval:end_interval])\n",
    "    # plt.axvline(ind_time)\n",
    "plt.legend(species)\n",
    "plt.xlabel(\"Time (sec)\")\n",
    "plt.ylabel(\"Concentration\")\n",
    "# plt.ylabel(f\"{spec} concentration\")\n",
    "# plt.title(spec)\n",
    "sns.despine()"
   ]
  },
  {
   "cell_type": "code",
   "execution_count": null,
   "id": "5b4ad713-eb5c-482e-a2a8-97de287c65bc",
   "metadata": {
    "tags": []
   },
   "outputs": [],
   "source": [
    "znd[\"ind_len_ZND\"], ind_len, znd[\"ind_len_ZND\"]/  ind_len * 100"
   ]
  },
  {
   "cell_type": "code",
   "execution_count": null,
   "id": "b7f2a6b7-3a43-431d-9f52-fdaea8e1fdb3",
   "metadata": {
    "tags": []
   },
   "outputs": [],
   "source": [
    "znd.keys()"
   ]
  },
  {
   "cell_type": "code",
   "execution_count": null,
   "id": "4cadc307-d82d-4298-a25d-9e178c00b346",
   "metadata": {
    "tags": []
   },
   "outputs": [],
   "source": [
    "znd[\"gas1\"].reactions()[98]"
   ]
  },
  {
   "cell_type": "code",
   "execution_count": null,
   "id": "102afa59-4102-492a-ac0a-83834adc799b",
   "metadata": {
    "tags": []
   },
   "outputs": [],
   "source": [
    "znd[\"gas1\"].reaction_equation(98)"
   ]
  },
  {
   "cell_type": "code",
   "execution_count": null,
   "id": "0cc3669d-5171-4276-94bb-b6ba6d4dd274",
   "metadata": {
    "tags": []
   },
   "outputs": [],
   "source": [
    "gas.forward_rates_of_progress[rxn_indices]"
   ]
  },
  {
   "cell_type": "code",
   "execution_count": null,
   "id": "8ca749fb-dcab-4d90-b761-79e148289baa",
   "metadata": {
    "tags": []
   },
   "outputs": [],
   "source": [
    "gas.forward_rate_constants[rxn_indices]"
   ]
  },
  {
   "cell_type": "code",
   "execution_count": null,
   "id": "48272762-dd18-4e5e-83fb-dd0c22ddaff8",
   "metadata": {
    "tags": []
   },
   "outputs": [],
   "source": [
    "test = np.array([[]])"
   ]
  },
  {
   "cell_type": "code",
   "execution_count": null,
   "id": "857fdaa8-c484-4e62-9b12-d44cff9ef496",
   "metadata": {
    "tags": []
   },
   "outputs": [],
   "source": [
    "np.append(test, gas.forward_rates_of_progress[rxn_indices])"
   ]
  },
  {
   "cell_type": "code",
   "execution_count": null,
   "id": "055a8fb3-622a-4cd6-b854-38fa3443cf62",
   "metadata": {},
   "outputs": [],
   "source": []
  },
  {
   "cell_type": "code",
   "execution_count": null,
   "id": "ed562beb-2ded-4144-b6f2-ba41ed6e6946",
   "metadata": {},
   "outputs": [],
   "source": []
  },
  {
   "cell_type": "code",
   "execution_count": null,
   "id": "65f1beee-2446-44b7-af05-1146196c99df",
   "metadata": {
    "tags": []
   },
   "outputs": [],
   "source": [
    "cv_0.keys()"
   ]
  },
  {
   "cell_type": "code",
   "execution_count": null,
   "id": "cc2066ac-5f36-4438-9ad0-2ccce4d21338",
   "metadata": {
    "tags": []
   },
   "outputs": [],
   "source": [
    "sdt.utilities.cv_plot(cv_0)\n"
   ]
  },
  {
   "cell_type": "code",
   "execution_count": null,
   "id": "537e391b-51c2-4e75-b63c-63e1ed62bf64",
   "metadata": {
    "tags": []
   },
   "outputs": [],
   "source": [
    "sdt.utilities.znd_plot(znd)"
   ]
  }
 ],
 "metadata": {
  "kernelspec": {
   "display_name": "Python 3 (ipykernel)",
   "language": "python",
   "name": "python3"
  },
  "language_info": {
   "codemirror_mode": {
    "name": "ipython",
    "version": 3
   },
   "file_extension": ".py",
   "mimetype": "text/x-python",
   "name": "python",
   "nbconvert_exporter": "python",
   "pygments_lexer": "ipython3",
   "version": "3.9.16"
  }
 },
 "nbformat": 4,
 "nbformat_minor": 5
}
