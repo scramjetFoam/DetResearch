{
 "cells": [
  {
   "cell_type": "markdown",
   "id": "ce09d0a0-a673-479c-8ddf-34a6ad505a65",
   "metadata": {},
   "source": [
    "# Quick study: Post-shock sound speeds"
   ]
  },
  {
   "cell_type": "code",
   "execution_count": 1,
   "id": "46835a67-cbb2-462b-85cb-ba755f8a6cea",
   "metadata": {
    "tags": []
   },
   "outputs": [],
   "source": [
    "import sdtoolbox\n",
    "import cantera as ct\n",
    "import numpy as np\n",
    "from scipy.optimize import minimize\n",
    "\n",
    "import seaborn as sns\n",
    "from matplotlib import pyplot as plt\n",
    "\n",
    "from funcs.simulation import thermo"
   ]
  },
  {
   "cell_type": "code",
   "execution_count": 2,
   "id": "f9317be1-b17a-4e39-a970-e71055368a96",
   "metadata": {
    "tags": []
   },
   "outputs": [],
   "source": [
    "initial_pressure = 101_325\n",
    "initial_temperature = 300\n",
    "mech = \"gri30.xml\"\n",
    "fuel = \"CH4\"\n",
    "oxidizer = \"N2O\"\n",
    "gas = ct.Solution(mech)\n",
    "gas.set_equivalence_ratio(1.0, fuel, oxidizer)\n",
    "q = gas.mole_fraction_dict()"
   ]
  },
  {
   "cell_type": "markdown",
   "id": "a58b7fc5-a407-4e69-9220-cdc945a449b2",
   "metadata": {},
   "source": [
    "## CJ Speed"
   ]
  },
  {
   "cell_type": "code",
   "execution_count": 3,
   "id": "d6e0fd64-29da-4ada-a345-9378b5625b9e",
   "metadata": {
    "tags": []
   },
   "outputs": [
    {
     "data": {
      "text/plain": [
       "2197.0811946287945"
      ]
     },
     "execution_count": 3,
     "metadata": {},
     "output_type": "execute_result"
    }
   ],
   "source": [
    "cj_speed = sdtoolbox.postshock.CJspeed(\n",
    "    P1=initial_pressure,\n",
    "    T1=initial_temperature,\n",
    "    q=q,\n",
    "    mech=mech,\n",
    ")\n",
    "cj_speed"
   ]
  },
  {
   "cell_type": "markdown",
   "id": "4d977db6-3943-4318-9d14-1054b2035bc8",
   "metadata": {},
   "source": [
    "## Post-shock states"
   ]
  },
  {
   "cell_type": "code",
   "execution_count": 4,
   "id": "e1e16d03-7a85-46b6-90fc-1920b28250c3",
   "metadata": {
    "tags": []
   },
   "outputs": [
    {
     "data": {
      "text/plain": [
       "(3630.4533028416436, 3548931.284754403)"
      ]
     },
     "execution_count": 4,
     "metadata": {},
     "output_type": "execute_result"
    }
   ],
   "source": [
    "gas_eq = sdtoolbox.postshock.PostShock_eq(\n",
    "    U1=cj_speed,\n",
    "    P1=initial_pressure,\n",
    "    T1=initial_temperature,\n",
    "    q=q,\n",
    "    mech=mech,\n",
    "    perturbed_rxn_no=None,\n",
    "    perturbation_fraction=None,\n",
    ")\n",
    "gas_eq.TP"
   ]
  },
  {
   "cell_type": "code",
   "execution_count": 5,
   "id": "54cbb549-9a37-413d-9c15-aeaaf81bd812",
   "metadata": {
    "tags": []
   },
   "outputs": [
    {
     "data": {
      "text/plain": [
       "(1884.492063349297, 6944389.931037229)"
      ]
     },
     "execution_count": 5,
     "metadata": {},
     "output_type": "execute_result"
    }
   ],
   "source": [
    "gas_fr = sdtoolbox.postshock.PostShock_fr(\n",
    "    U1=cj_speed,\n",
    "    P1=initial_pressure,\n",
    "    T1=initial_temperature,\n",
    "    q=q,\n",
    "    mech=mech,\n",
    "    perturbed_rxn_no=None,\n",
    "    perturbation_fraction=None,\n",
    ")\n",
    "gas_fr.TP"
   ]
  },
  {
   "cell_type": "markdown",
   "id": "97ecda5d-9650-4257-92b4-ecbcb05496da",
   "metadata": {},
   "source": [
    "## Sound Speeds"
   ]
  },
  {
   "cell_type": "code",
   "execution_count": 6,
   "id": "f203f875-9d2a-4334-a43c-522dfa0d7b01",
   "metadata": {
    "tags": []
   },
   "outputs": [
    {
     "data": {
      "text/plain": [
       "1190.0835965372191"
      ]
     },
     "execution_count": 6,
     "metadata": {},
     "output_type": "execute_result"
    }
   ],
   "source": [
    "a_eq = sdtoolbox.thermo.soundspeed_eq(gas_eq)\n",
    "a_eq"
   ]
  },
  {
   "cell_type": "code",
   "execution_count": 7,
   "id": "687ac6ea-93c1-46fb-aab2-295bdadafdb0",
   "metadata": {
    "tags": []
   },
   "outputs": [
    {
     "data": {
      "text/plain": [
       "681.409900643372"
      ]
     },
     "execution_count": 7,
     "metadata": {},
     "output_type": "execute_result"
    }
   ],
   "source": [
    "a_fr = sdtoolbox.thermo.soundspeed_fr(gas_fr)\n",
    "a_fr"
   ]
  },
  {
   "cell_type": "code",
   "execution_count": 8,
   "id": "85baca7d-80a0-4cff-b3e7-20a77d68b782",
   "metadata": {
    "tags": []
   },
   "outputs": [
    {
     "data": {
      "text/plain": [
       "7.842445619329823e-12"
      ]
     },
     "execution_count": 8,
     "metadata": {},
     "output_type": "execute_result"
    }
   ],
   "source": [
    "gas_eq.mole_fraction_dict()[fuel]"
   ]
  },
  {
   "cell_type": "code",
   "execution_count": 9,
   "id": "53db4055-c7ba-4dae-9349-47a2f0b97384",
   "metadata": {
    "tags": []
   },
   "outputs": [
    {
     "data": {
      "text/plain": [
       "0.2"
      ]
     },
     "execution_count": 9,
     "metadata": {},
     "output_type": "execute_result"
    }
   ],
   "source": [
    "gas_fr.mole_fraction_dict()[fuel]"
   ]
  },
  {
   "cell_type": "markdown",
   "id": "8f5a629b-ab4f-4de4-9393-5c3e8fbe9a7d",
   "metadata": {},
   "source": [
    "We want to use equilibrium because CJ is the post-shock equilibrium state"
   ]
  },
  {
   "cell_type": "code",
   "execution_count": 3,
   "id": "0e98b491-6641-461b-8ea4-df7c6708fa53",
   "metadata": {
    "tags": []
   },
   "outputs": [],
   "source": [
    "mol_fracs = np.linspace(0, 0.8, 21)\n",
    "co2_speeds = np.zeros_like(mol_fracs)\n",
    "n2_speeds = np.zeros_like(mol_fracs)\n",
    "for i, mol_frac in enumerate(mol_fracs):\n",
    "    co2_speeds[i] = thermo.get_sound_speed(\n",
    "        mech=\"gri30.xml\",\n",
    "        fuel=\"CH4\",\n",
    "        oxidizer=\"N2O\",\n",
    "        phi=1.0,\n",
    "        diluent=\"CO2\",\n",
    "        diluent_mol_frac=mol_frac,\n",
    "        init_temp=300,\n",
    "        init_press=101325,\n",
    "    )\n",
    "    n2_speeds[i] = thermo.get_sound_speed(\n",
    "        mech=\"gri30.xml\",\n",
    "        fuel=\"CH4\",\n",
    "        oxidizer=\"N2O\",\n",
    "        phi=1.0,\n",
    "        diluent=\"N2\",\n",
    "        diluent_mol_frac=mol_frac,\n",
    "        init_temp=300,\n",
    "        init_press=101325,\n",
    "    )"
   ]
  },
  {
   "cell_type": "code",
   "execution_count": 4,
   "id": "47da0f17-a54e-4f3a-9d06-c3f7debbdb3d",
   "metadata": {
    "tags": []
   },
   "outputs": [
    {
     "data": {
      "image/png": "[encoded data removed]",
      "text/plain": [
       "<Figure size 640x480 with 1 Axes>"
      ]
     },
     "metadata": {},
     "output_type": "display_data"
    }
   ],
   "source": [
    "sns.set_style(\"darkgrid\")\n",
    "plt.plot(mol_fracs, co2_speeds, label=\"CO2\")\n",
    "plt.plot(mol_fracs, n2_speeds, label=\"N2\")\n",
    "plt.legend()\n",
    "plt.title(\"Sound Speeds: CO2 vs. N2 Dilution\")\n",
    "plt.xlabel(\"Diluent mole fraction\")\n",
    "plt.ylabel(\"Sound speed (m/s)\")\n",
    "sns.despine()"
   ]
  },
  {
   "cell_type": "code",
   "execution_count": 6,
   "id": "40b07b43-14a9-4006-b034-ec186ea75f6a",
   "metadata": {
    "tags": []
   },
   "outputs": [
    {
     "data": {
      "text/plain": [
       "(1094.0055444473815, 1094.9020707549241)"
      ]
     },
     "execution_count": 6,
     "metadata": {},
     "output_type": "execute_result"
    }
   ],
   "source": [
    "co2 = thermo.get_sound_speed(\n",
    "    mech=\"gri30.xml\",\n",
    "    fuel=\"CH4\",\n",
    "    oxidizer=\"N2O\",\n",
    "    phi=1.0,\n",
    "    diluent=\"CO2\",\n",
    "    diluent_mol_frac=0.2,\n",
    "    init_temp=300,\n",
    "    init_press=101325,\n",
    ")\n",
    "n2 = thermo.get_sound_speed(\n",
    "    mech=\"gri30.xml\",\n",
    "    fuel=\"CH4\",\n",
    "    oxidizer=\"N2O\",\n",
    "    phi=1.0,\n",
    "    diluent=\"N2\",\n",
    "    diluent_mol_frac=0.525,\n",
    "    init_temp=300,\n",
    "    init_press=101325,\n",
    ")\n",
    "co2, n2"
   ]
  },
  {
   "cell_type": "code",
   "execution_count": 8,
   "id": "11a02869-7ece-4ce0-9a12-5178a78f0497",
   "metadata": {
    "tags": []
   },
   "outputs": [
    {
     "data": {
      "text/plain": [
       "0.5271442604064953"
      ]
     },
     "execution_count": 8,
     "metadata": {},
     "output_type": "execute_result"
    }
   ],
   "source": [
    "n2_match = thermo.match_sound_speed(\n",
    "    mech=\"gri30.xml\",\n",
    "    fuel=\"CH4\",\n",
    "    oxidizer=\"N2O\",\n",
    "    phi=1.0,\n",
    "    dil_original=\"CO2\",\n",
    "    dil_original_mol_frac=0.2,\n",
    "    dil_new=\"N2\",\n",
    "    init_temp=300,\n",
    "    init_press=101325,\n",
    ")\n",
    "n2_match"
   ]
  },
  {
   "cell_type": "code",
   "execution_count": 9,
   "id": "9f1ebed4-4c63-4778-bfde-6349a537f227",
   "metadata": {
    "tags": []
   },
   "outputs": [
    {
     "data": {
      "text/plain": [
       "1094.0055510282582"
      ]
     },
     "execution_count": 9,
     "metadata": {},
     "output_type": "execute_result"
    }
   ],
   "source": [
    "thermo.get_sound_speed(\n",
    "    mech=\"gri30.xml\",\n",
    "    fuel=\"CH4\",\n",
    "    oxidizer=\"N2O\",\n",
    "    phi=1.0,\n",
    "    diluent=\"N2\",\n",
    "    diluent_mol_frac=n2_match,\n",
    "    init_temp=300,\n",
    "    init_press=101325,\n",
    ")"
   ]
  },
  {
   "cell_type": "code",
   "execution_count": 10,
   "id": "1c1dc505-59a8-4625-b1e0-20bd7608486d",
   "metadata": {
    "tags": []
   },
   "outputs": [
    {
     "data": {
      "text/plain": [
       "array([0.  , 0.04, 0.08, 0.12, 0.16, 0.2 , 0.24, 0.28, 0.32, 0.36, 0.4 ,\n",
       "       0.44, 0.48, 0.52, 0.56, 0.6 , 0.64, 0.68, 0.72, 0.76, 0.8 ])"
      ]
     },
     "execution_count": 10,
     "metadata": {},
     "output_type": "execute_result"
    }
   ],
   "source": [
    "mol_fracs"
   ]
  },
  {
   "cell_type": "code",
   "execution_count": 20,
   "id": "a449b4c3-5bf0-427f-b9d7-91a2b316b797",
   "metadata": {
    "tags": []
   },
   "outputs": [],
   "source": [
    "from scipy import interpolate"
   ]
  },
  {
   "cell_type": "code",
   "execution_count": 29,
   "id": "69db6c06-04df-454d-845d-8082a4ff6487",
   "metadata": {
    "tags": []
   },
   "outputs": [],
   "source": [
    "cs = interpolate.CubicSpline(n2_speeds[::-1], mol_fracs[::-1])"
   ]
  },
  {
   "cell_type": "code",
   "execution_count": 37,
   "id": "bda10ec9-bb81-4de5-9ee6-2f7aef5e5114",
   "metadata": {
    "tags": []
   },
   "outputs": [
    {
     "data": {
      "text/plain": [
       "0.5271340074331009"
      ]
     },
     "execution_count": 37,
     "metadata": {},
     "output_type": "execute_result"
    }
   ],
   "source": [
    "test2 = cs(co2)[()]\n",
    "test2"
   ]
  },
  {
   "cell_type": "code",
   "execution_count": 38,
   "id": "ad2bc922-42a7-4e36-9382-3be8f3f1fae7",
   "metadata": {
    "tags": []
   },
   "outputs": [
    {
     "data": {
      "text/plain": [
       "1094.0098248346653"
      ]
     },
     "execution_count": 38,
     "metadata": {},
     "output_type": "execute_result"
    }
   ],
   "source": [
    "thermo.get_sound_speed(\n",
    "    mech=\"gri30.xml\",\n",
    "    fuel=\"CH4\",\n",
    "    oxidizer=\"N2O\",\n",
    "    phi=1.0,\n",
    "    diluent=\"N2\",\n",
    "    diluent_mol_frac=test2,\n",
    "    init_temp=300,\n",
    "    init_press=101325,\n",
    ")"
   ]
  },
  {
   "cell_type": "code",
   "execution_count": 25,
   "id": "942833d7-d41d-4b35-91f7-4c1de98a396b",
   "metadata": {
    "tags": []
   },
   "outputs": [
    {
     "data": {
      "text/plain": [
       "0.5268584584117812"
      ]
     },
     "execution_count": 25,
     "metadata": {},
     "output_type": "execute_result"
    }
   ],
   "source": [
    "test = np.interp(co2, n2_speeds[::-1], mol_fracs[::-1])\n",
    "test"
   ]
  },
  {
   "cell_type": "code",
   "execution_count": 26,
   "id": "aff8568e-a9f5-485e-ac22-16f5f0aef336",
   "metadata": {
    "tags": []
   },
   "outputs": [
    {
     "data": {
      "text/plain": [
       "1094.1243521560143"
      ]
     },
     "execution_count": 26,
     "metadata": {},
     "output_type": "execute_result"
    }
   ],
   "source": [
    "thermo.get_sound_speed(\n",
    "    mech=\"gri30.xml\",\n",
    "    fuel=\"CH4\",\n",
    "    oxidizer=\"N2O\",\n",
    "    phi=1.0,\n",
    "    diluent=\"N2\",\n",
    "    diluent_mol_frac=test,\n",
    "    init_temp=300,\n",
    "    init_press=101325,\n",
    ")"
   ]
  },
  {
   "cell_type": "code",
   "execution_count": 27,
   "id": "a99ed934-f9d8-408a-83ec-0f3df619d892",
   "metadata": {
    "tags": []
   },
   "outputs": [
    {
     "data": {
      "text/plain": [
       "1094.0055444473815"
      ]
     },
     "execution_count": 27,
     "metadata": {},
     "output_type": "execute_result"
    }
   ],
   "source": [
    "co2"
   ]
  }
 ],
 "metadata": {
  "kernelspec": {
   "display_name": "Python 3 (ipykernel)",
   "language": "python",
   "name": "python3"
  },
  "language_info": {
   "codemirror_mode": {
    "name": "ipython",
    "version": 3
   },
   "file_extension": ".py",
   "mimetype": "text/x-python",
   "name": "python",
   "nbconvert_exporter": "python",
   "pygments_lexer": "ipython3",
   "version": "3.9.16"
  }
 },
 "nbformat": 4,
 "nbformat_minor": 5
}
